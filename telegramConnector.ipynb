{
 "cells": [
  {
   "cell_type": "code",
   "execution_count": 1,
   "metadata": {},
   "outputs": [
    {
     "name": "stdout",
     "output_type": "stream",
     "text": [
      "safemode is on\n",
      "this will not write to the files\n",
      "debug mode is on\n",
      "{'type': 'memory', 'person': 'Harshini', 'location': {'0': 'Important Details', '1': 'Relationship'}, 'item': 'Roommates with Ananya'}\n",
      "Harshini Kundurthi\n",
      "attribute classifier dict_keys(['Likes and Dislikes', 'Important Details', 'Gift Ideas', 'Birthday', 'Dietary Restrictions', 'pronouns', 'tags'])\n",
      "first location Important Details\n",
      "['1']\n",
      "['1']\n",
      "**Relationship:** \n",
      "*Elaborate if you want!*\n",
      "here\n",
      "file written\n"
     ]
    }
   ],
   "source": [
    "from obsidianScripts.main import main\n",
    "import json\n",
    "from gptStuff.masterGPT import GPTFlow\n",
    "\n",
    "json_data = None\n",
    "with open('obsidianScripts/testJSONS/test1.json', 'r') as file:\n",
    "    json_data = file.read()\n",
    "    file.close()\n",
    "json_data=json.loads(json_data)\n",
    "\n",
    "\n",
    "main(json_data=json_data,debug=True)"
   ]
  },
  {
   "cell_type": "code",
   "execution_count": 2,
   "metadata": {},
   "outputs": [
    {
     "name": "stdout",
     "output_type": "stream",
     "text": [
      "7266721080:AAGBaAytkmacRQgLs8DWp271Fh3wqRSDL6U\n"
     ]
    }
   ],
   "source": [
    "# get the token from the json\n",
    "with open('token.json', 'r') as file:\n",
    "    token = file.read()\n",
    "    file.close()\n",
    "token = json.loads(token)\n",
    "token = token['token']\n",
    "print(token)"
   ]
  },
  {
   "cell_type": "code",
   "execution_count": 3,
   "metadata": {},
   "outputs": [
    {
     "name": "stdout",
     "output_type": "stream",
     "text": [
      "Webhook set successfully!\n"
     ]
    }
   ],
   "source": [
    "import requests\n",
    "\n",
    "def set_webhook(bot_token, webhook_url):\n",
    "    url = f'https://api.telegram.org/bot{bot_token}/setWebhook'\n",
    "    payload = {\n",
    "        'url': webhook_url\n",
    "    }\n",
    "    response = requests.post(url, json=payload)\n",
    "    \n",
    "    if response.status_code == 200:\n",
    "        print('Webhook set successfully!')\n",
    "    else:\n",
    "        print('Failed to set webhook.')\n",
    "        print('Error:', response.text)\n",
    "\n",
    "# Replace <YOUR_BOT_TOKEN> with your actual bot token\n",
    "webhook_url = 'https://de50-140-82-220-240.ngrok-free.app'+'/telegram-webhook'\n",
    "\n",
    "set_webhook(token, webhook_url)"
   ]
  },
  {
   "cell_type": "code",
   "execution_count": 4,
   "metadata": {},
   "outputs": [
    {
     "name": "stdout",
     "output_type": "stream",
     "text": [
      "Starting the Flask app\n",
      "token: 7266721080:AAGBaAytkmacRQgLs8DWp271Fh3wqRSDL6U\n",
      " * Serving Flask app '__main__'\n",
      " * Debug mode: off\n"
     ]
    },
    {
     "name": "stderr",
     "output_type": "stream",
     "text": [
      "\u001b[31m\u001b[1mWARNING: This is a development server. Do not use it in a production deployment. Use a production WSGI server instead.\u001b[0m\n",
      " * Running on http://127.0.0.1:3000\n",
      "\u001b[33mPress CTRL+C to quit\u001b[0m\n"
     ]
    },
    {
     "name": "stdout",
     "output_type": "stream",
     "text": [
      "inside parent Test\n",
      "{'sister': {'details': \"Please provide more information about the task you'd like us to assist with.\"}, 'brother': {'context': 'Awaiting further details to execute the task effectively.'}}\n",
      "sister result {'type': 'retrieval', 'item': 'task'}\n",
      "safemode is on\n",
      "this will not write to the files\n"
     ]
    },
    {
     "name": "stderr",
     "output_type": "stream",
     "text": [
      "127.0.0.1 - - [19/Jun/2024 22:57:03] \"POST /telegram-webhook HTTP/1.1\" 200 -\n"
     ]
    },
    {
     "name": "stdout",
     "output_type": "stream",
     "text": [
      "inside parent Harshini is who\n",
      "{'sister': {'details': 'Retrieve information about Harshini'}, 'brother': {'context': 'Inform the user about who Harshini is based on the information retrieved'}}\n",
      "sister result {'type': 'retrieval', 'person': 'Harshini', 'location': {}}\n",
      "safemode is on\n",
      "this will not write to the files\n"
     ]
    },
    {
     "name": "stderr",
     "output_type": "stream",
     "text": [
      "127.0.0.1 - - [19/Jun/2024 22:57:47] \"POST /telegram-webhook HTTP/1.1\" 200 -\n"
     ]
    },
    {
     "name": "stdout",
     "output_type": "stream",
     "text": [
      "inside parent Who's harshini\n",
      "{'sister': {'details': 'Retrieve information about Harshini including tags, pronouns, and birthday'}, 'brother': {'context': 'Inform the boss about the information retrieved about Harshini'}}\n",
      "sister result {'type': 'list', 'content': [{'type': 'retrieval', 'person': 'Harshini', 'location': {'0': 'Tags'}}, {'type': 'retrieval', 'person': 'Harshini', 'location': {'0': 'Pronouns'}}, {'type': 'retrieval', 'person': 'Harshini', 'location': {'0': 'Birthday'}}]}\n",
      "safemode is on\n",
      "this will not write to the files\n",
      "safemode is on\n",
      "this will not write to the files\n",
      "safemode is on\n",
      "this will not write to the files\n",
      "\n",
      "<Harshini>\n",
      "tags:tags:\n",
      "  - CoppenhagenInterpretationOfObjectPermanence\n",
      "  - SAAYA\n",
      "  - bollywoodDance\n",
      "pronouns:pronouns: she/her\n",
      "Birthday:Birthday: 2005-11-09\n",
      "brotherPrompt Inform the boss about the information retrieved about Harshini\n",
      "<informationForBrother>\n",
      "<Harshini>\n",
      "tags:tags:\n",
      "  - CoppenhagenInterpretationOfObjectPermanence\n",
      "  - SAAYA\n",
      "  - bollywoodDance\n",
      "pronouns:pronouns: she/her\n",
      "Birthday:Birthday: 2005-11-09\n",
      "</informationForBrother>\n"
     ]
    },
    {
     "name": "stderr",
     "output_type": "stream",
     "text": [
      "127.0.0.1 - - [19/Jun/2024 22:58:03] \"POST /telegram-webhook HTTP/1.1\" 200 -\n"
     ]
    },
    {
     "name": "stdout",
     "output_type": "stream",
     "text": [
      "inside parent When's Reba's birthday?\n",
      "{'sister': {'details': \"Retrieve Reba's birthday\"}, 'brother': {'context': \"You as the brother may or may not have been given Reba's birthday, if you've received it, tell the user when it is. If not, inform the user that the information is not available.\"}}\n",
      "sister result {'type': 'retrieval', 'person': 'Reba', 'location': {'0': 'Birthday'}, 'item': ''}\n",
      "safemode is on\n",
      "this will not write to the files\n",
      "several strings had the same distance\n",
      "['zoha', 'mama', 'hiba', 'sara', 'yara', 'deeya', 'baba', 'roo', 'naba', 'areeba', 'riyad', 'emma']\n",
      "several strings had the same first letter\n",
      "Birthday:Birthday: \n",
      "brotherPrompt You as the brother may or may not have been given Reba's birthday, if you've received it, tell the user when it is. If not, inform the user that the information is not available.\n",
      "<informationForBrother>Birthday:Birthday: \n",
      "</informationForBrother>\n"
     ]
    },
    {
     "name": "stderr",
     "output_type": "stream",
     "text": [
      "127.0.0.1 - - [19/Jun/2024 22:59:00] \"POST /telegram-webhook HTTP/1.1\" 200 -\n"
     ]
    },
    {
     "name": "stdout",
     "output_type": "stream",
     "text": [
      "inside parent When's Areeba's birthday?\n",
      "{'sister': {'details': \"Retrieve Areeba's birthday\"}, 'brother': {'context': \"You as the brother may or may not have been given Areeba's birthday, if you've received it, tell the user the birthday. If not, tell the user you haven't\"}}\n",
      "sister result {'type': 'retrieval', 'person': 'Areeba', 'location': {'0': 'Birthday'}, 'item': ''}\n",
      "safemode is on\n",
      "this will not write to the files\n",
      "Birthday:Birthday: 2000-07-01\n",
      "brotherPrompt You as the brother may or may not have been given Areeba's birthday, if you've received it, tell the user the birthday. If not, tell the user you haven't\n",
      "<informationForBrother>Birthday:Birthday: 2000-07-01\n",
      "</informationForBrother>\n"
     ]
    },
    {
     "name": "stderr",
     "output_type": "stream",
     "text": [
      "127.0.0.1 - - [19/Jun/2024 22:59:11] \"POST /telegram-webhook HTTP/1.1\" 200 -\n"
     ]
    },
    {
     "name": "stdout",
     "output_type": "stream",
     "text": [
      "inside parent When's abira's birthday?\n",
      "{'sister': {'details': \"Retrieve Abira's birthday\"}, 'brother': {'context': \"You as the brother may or may not have been given Abira's birthday, if you've received it, tell the user the birthday. If not, tell the user you haven't.\"}}\n",
      "sister result {'type': 'retrieval', 'person': 'Abira', 'location': {'0': 'Birthday'}, 'item': ''}\n",
      "safemode is on\n",
      "this will not write to the files\n",
      "phoneticstring abeera\n",
      "['sanju', 'madison', 'caden', 'zoha', 'mama', 'hiba', 'abeera', 'nano', 'farah', 'sara', 'nanobu', 'max', 'yara', 'pari', 'viraja', 'deeya', 'baba', 'roo', 'sofia', 'naba', 'amal', 'areeba', 'spencer', 'shreeya', 'ananya', 'harshini', 'madison', 'noor', 'ahmed', 'riyad', 'arham', 'khushi', 'hamza', 'harshini', 'emma', 'ayden']\n",
      "Birthday:Birthday:\n",
      "  - 2005-11-22\n",
      "brotherPrompt You as the brother may or may not have been given Abira's birthday, if you've received it, tell the user the birthday. If not, tell the user you haven't.\n",
      "<informationForBrother>Birthday:Birthday:\n",
      "  - 2005-11-22\n",
      "</informationForBrother>\n"
     ]
    },
    {
     "name": "stderr",
     "output_type": "stream",
     "text": [
      "127.0.0.1 - - [19/Jun/2024 22:59:23] \"POST /telegram-webhook HTTP/1.1\" 200 -\n"
     ]
    },
    {
     "name": "stdout",
     "output_type": "stream",
     "text": [
      "inside parent Who's harshini\n",
      "{'sister': {'details': 'Retrieve information about Harshini including tags, pronouns, and birthday'}, 'brother': {'context': 'Inform the boss about the details of Harshini including tags, pronouns, and birthday'}}\n",
      "sister result {'type': 'list', 'content': [{'type': 'retrieval', 'person': 'Harshini', 'location': {'0': 'Tags'}}, {'type': 'retrieval', 'person': 'Harshini', 'location': {'0': 'Pronouns'}}, {'type': 'retrieval', 'person': 'Harshini', 'location': {'0': 'Birthday'}}]}\n",
      "safemode is on\n",
      "this will not write to the files\n",
      "safemode is on\n",
      "this will not write to the files\n",
      "safemode is on\n",
      "this will not write to the files\n",
      "\n",
      "<Harshini>\n",
      "tags:tags:\n",
      "  - CoppenhagenInterpretationOfObjectPermanence\n",
      "  - SAAYA\n",
      "  - bollywoodDance\n",
      "pronouns:pronouns: she/her\n",
      "Birthday:Birthday: 2005-11-09\n",
      "brotherPrompt Inform the boss about the details of Harshini including tags, pronouns, and birthday\n",
      "<informationForBrother>\n",
      "<Harshini>\n",
      "tags:tags:\n",
      "  - CoppenhagenInterpretationOfObjectPermanence\n",
      "  - SAAYA\n",
      "  - bollywoodDance\n",
      "pronouns:pronouns: she/her\n",
      "Birthday:Birthday: 2005-11-09\n",
      "</informationForBrother>\n"
     ]
    },
    {
     "name": "stderr",
     "output_type": "stream",
     "text": [
      "127.0.0.1 - - [19/Jun/2024 23:00:13] \"POST /telegram-webhook HTTP/1.1\" 200 -\n"
     ]
    },
    {
     "name": "stdout",
     "output_type": "stream",
     "text": [
      "inside parent Who's harshini\n",
      "{'sister': {'details': 'Retrieve information about Harshini including tags, pronouns, and birthday'}, 'brother': {'context': 'Inform the boss about the retrieved details of Harshini'}}\n",
      "sister result {'type': 'list', 'content': [{'type': 'retrieval', 'person': 'Harshini', 'location': {'0': 'Tags'}}, {'type': 'retrieval', 'person': 'Harshini', 'location': {'0': 'Pronouns'}}, {'type': 'retrieval', 'person': 'Harshini', 'location': {'0': 'Birthday'}}]}\n",
      "safemode is on\n",
      "this will not write to the files\n",
      "safemode is on\n",
      "this will not write to the files\n",
      "safemode is on\n",
      "this will not write to the files\n",
      "\n",
      "<Harshini>\n",
      "tags:tags:\n",
      "  - CoppenhagenInterpretationOfObjectPermanence\n",
      "  - SAAYA\n",
      "  - bollywoodDance\n",
      "pronouns:pronouns: she/her\n",
      "Birthday:Birthday: 2005-11-09\n",
      "brotherPrompt Inform the boss about the retrieved details of Harshini\n",
      "<informationForBrother>\n",
      "<Harshini>\n",
      "tags:tags:\n",
      "  - CoppenhagenInterpretationOfObjectPermanence\n",
      "  - SAAYA\n",
      "  - bollywoodDance\n",
      "pronouns:pronouns: she/her\n",
      "Birthday:Birthday: 2005-11-09\n",
      "</informationForBrother>\n"
     ]
    },
    {
     "name": "stderr",
     "output_type": "stream",
     "text": [
      "127.0.0.1 - - [19/Jun/2024 23:00:29] \"POST /telegram-webhook HTTP/1.1\" 200 -\n"
     ]
    }
   ],
   "source": [
    "from flask import Flask, request\n",
    "import subprocess\n",
    "\n",
    "import requests\n",
    "app = Flask(__name__)\n",
    "\n",
    "\n",
    "@app.route('/telegram-webhook', methods=['POST'])\n",
    "def webhook():\n",
    "    # Get the input data from the request\n",
    "    input_data = request.json\n",
    "\n",
    "    # Extract the relevant information from the input data\n",
    "    try:\n",
    "        message_text = input_data['message']['text']\n",
    "        chat_id = input_data['message']['chat']['id']\n",
    "    except:\n",
    "        print('Invalid input data:', input_data)\n",
    "        return 'OK'\n",
    "\n",
    "    # Run the Python script with the input data\n",
    "    result = run_python_script(message_text)\n",
    "\n",
    "    # Send the result back to Telegram\n",
    "    send_message(chat_id, result)\n",
    "\n",
    "    return 'OK'\n",
    "\n",
    "def run_python_script(input_text):\n",
    "    # Run the Python script as a subprocess and capture the output\n",
    "    try:\n",
    "        response = GPTFlow(input_text)\n",
    "    except Exception as e:\n",
    "        response = f'An error occurred: {e}'\n",
    "\n",
    "    return response\n",
    "\n",
    "def send_message(chat_id, text):\n",
    "    # Send a message back to Telegram using the sendMessage method\n",
    "    url = f'https://api.telegram.org/bot{token}/sendMessage'\n",
    "    payload = {\n",
    "        'chat_id': chat_id,\n",
    "        'text': text\n",
    "    }\n",
    "    requests.post(url, json=payload)\n",
    "\n",
    "if __name__ == '__main__':\n",
    "    print('Starting the Flask app')\n",
    "    print('token:',token)\n",
    "    app.run(port=3000)"
   ]
  }
 ],
 "metadata": {
  "kernelspec": {
   "display_name": "Python 3",
   "language": "python",
   "name": "python3"
  },
  "language_info": {
   "codemirror_mode": {
    "name": "ipython",
    "version": 3
   },
   "file_extension": ".py",
   "mimetype": "text/x-python",
   "name": "python",
   "nbconvert_exporter": "python",
   "pygments_lexer": "ipython3",
   "version": "3.10.0"
  }
 },
 "nbformat": 4,
 "nbformat_minor": 2
}
