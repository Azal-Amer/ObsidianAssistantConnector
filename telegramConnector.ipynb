{
 "cells": [
  {
   "cell_type": "code",
   "execution_count": null,
   "metadata": {},
   "outputs": [],
   "source": [
    "from obsidianScripts.main import main\n",
    "import json\n",
    "from gptStuff.masterGPT import GPTFlow\n",
    "\n",
    "json_data = None\n",
    "with open('obsidianScripts/testJSONS/test1.json', 'r') as file:\n",
    "    json_data = file.read()\n",
    "    file.close()\n",
    "json_data=json.loads(json_data)\n",
    "\n",
    "\n",
    "main(json_data=json_data,debug=True)"
   ]
  },
  {
   "cell_type": "code",
   "execution_count": null,
   "metadata": {},
   "outputs": [],
   "source": [
    "# get the token from the json\n",
    "with open('token.json', 'r') as file:\n",
    "    token = file.read()\n",
    "    file.close()\n",
    "token = json.loads(token)\n",
    "token = token['token']\n",
    "print(token)"
   ]
  },
  {
   "cell_type": "code",
   "execution_count": null,
   "metadata": {},
   "outputs": [],
   "source": [
    "import requests\n",
    "\n",
    "def set_webhook(bot_token, webhook_url):\n",
    "    url = f'https://api.telegram.org/bot{bot_token}/setWebhook'\n",
    "    payload = {\n",
    "        'url': webhook_url\n",
    "    }\n",
    "    response = requests.post(url, json=payload)\n",
    "    \n",
    "    if response.status_code == 200:\n",
    "        print('Webhook set successfully!')\n",
    "    else:\n",
    "        print('Failed to set webhook.')\n",
    "        print('Error:', response.text)\n",
    "\n",
    "# Replace <YOUR_BOT_TOKEN> with your actual bot token\n",
    "webhook_url = 'https://de50-140-82-220-240.ngrok-free.app'+'/telegram-webhook'\n",
    "\n",
    "set_webhook(token, webhook_url)"
   ]
  },
  {
   "cell_type": "code",
   "execution_count": null,
   "metadata": {},
   "outputs": [],
   "source": [
    "from flask import Flask, request\n",
    "import subprocess\n",
    "\n",
    "import requests\n",
    "app = Flask(__name__)\n",
    "\n",
    "@app.route('/telegram-webhook', methods=['POST'])\n",
    "def webhook():\n",
    "    # Get the input data from the request\n",
    "    input_data = request.json\n",
    "\n",
    "    # Extract the relevant information from the input data\n",
    "    try:\n",
    "        message_text = input_data['message']['text']\n",
    "        chat_id = input_data['message']['chat']['id']\n",
    "    except:\n",
    "        print('Invalid input data:', input_data)\n",
    "        return 'OK'\n",
    "\n",
    "    # Run the Python script with the input data\n",
    "    result = run_python_script(message_text)\n",
    "\n",
    "    # Send the result back to Telegram\n",
    "    send_message(chat_id, result)\n",
    "\n",
    "    return 'OK'\n",
    "\n",
    "def run_python_script(input_text):\n",
    "    # Run the Python script as a subprocess and capture the output\n",
    "    try:\n",
    "        response = GPTFlow(input_text)\n",
    "    except Exception as e:\n",
    "        response = f'An error occurred: {e}'\n",
    "\n",
    "    return response\n",
    "\n",
    "def send_message(chat_id, text):\n",
    "    # Send a message back to Telegram using the sendMessage method\n",
    "    url = f'https://api.telegram.org/bot{token}/sendMessage'\n",
    "    payload = {\n",
    "        'chat_id': chat_id,\n",
    "        'text': text\n",
    "    }\n",
    "    requests.post(url, json=payload)\n",
    "\n",
    "if __name__ == '__main__':\n",
    "    print('Starting the Flask app')\n",
    "    print('token:',token)\n",
    "    app.run(port=3000)"
   ]
  }
 ],
 "metadata": {
  "kernelspec": {
   "display_name": "Python 3",
   "language": "python",
   "name": "python3"
  },
  "language_info": {
   "codemirror_mode": {
    "name": "ipython",
    "version": 3
   },
   "file_extension": ".py",
   "mimetype": "text/x-python",
   "name": "python",
   "nbconvert_exporter": "python",
   "pygments_lexer": "ipython3",
   "version": "3.10.0"
  }
 },
 "nbformat": 4,
 "nbformat_minor": 2
}
