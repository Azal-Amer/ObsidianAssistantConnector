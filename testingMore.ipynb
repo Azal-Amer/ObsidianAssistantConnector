{
 "cells": [
  {
   "cell_type": "code",
   "execution_count": null,
   "metadata": {},
   "outputs": [],
   "source": [
    "from obsidianScripts.main import main\n",
    "import json"
   ]
  },
  {
   "cell_type": "code",
   "execution_count": null,
   "metadata": {},
   "outputs": [],
   "source": [
    "peopleDir = \"/Users/amer_/Documents/Obsidian Vault/Personal/People\"\n",
    "with open('obsidianScripts/testJSONS/groupJson.json', 'r') as file:\n",
    "    json_data = file.read()\n",
    "    file.close()\n",
    "result = json.loads(json_data)\n",
    "result"
   ]
  },
  {
   "cell_type": "code",
   "execution_count": null,
   "metadata": {},
   "outputs": [],
   "source": [
    "if result['type']=='list':\n",
    "    for item in result['content']:\n",
    "        main(json_data=item,debug=False,safemode=False)\n",
    "else:\n",
    "    main(json_data=result,debug=False,safemode=False) "
   ]
  }
 ],
 "metadata": {
  "kernelspec": {
   "display_name": "Python 3",
   "language": "python",
   "name": "python3"
  },
  "language_info": {
   "codemirror_mode": {
    "name": "ipython",
    "version": 3
   },
   "file_extension": ".py",
   "mimetype": "text/x-python",
   "name": "python",
   "nbconvert_exporter": "python",
   "pygments_lexer": "ipython3",
   "version": "3.10.0"
  }
 },
 "nbformat": 4,
 "nbformat_minor": 2
}
